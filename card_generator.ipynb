{
 "cells": [
  {
   "cell_type": "code",
   "execution_count": 2,
   "metadata": {
    "collapsed": false
   },
   "outputs": [],
   "source": [
    "import cv2\n",
    "import numpy\n",
    "import matplotlib.pyplot as plt"
   ]
  },
  {
   "cell_type": "code",
   "execution_count": 14,
   "metadata": {
    "collapsed": false
   },
   "outputs": [],
   "source": [
    "cv2.startWindowThread()\n",
    "cv2.namedWindow(\"Image window\",cv2.WINDOW_NORMAL) # cv2.WINDOW_NORMAL lets us resize the window"
   ]
  },
  {
   "cell_type": "code",
   "execution_count": 110,
   "metadata": {
    "collapsed": true
   },
   "outputs": [],
   "source": [
    "def generate_cards(shape_num, shape_color = (0,0,255), shape_pattern = [[0,0],[0,1]], shape_scale = 1):\n",
    "    '''\n",
    "    shape_num: 0 (circle), 1 (rectangle), 2 (triangle) and 3 (cross).\n",
    "    shape_color: (B,G,R)\n",
    "    shape_pattern: [[0/1,0/1],[0/1,0/1]]\n",
    "    '''\n",
    "    x_dim,y_dim = 200,200\n",
    "    shape = numpy.ones((x_dim,y_dim,3))\n",
    "    cv2.rectangle(shape,(x_dim-2,y_dim-2),(1,1),(0,0,0),2)\n",
    "\n",
    "    radius = int(10*shape_scale)\n",
    "    thickness = int(2*shape_scale) # must be even\n",
    "\n",
    "\n",
    "    color = shape_color\n",
    "    pos_x,pos_y = 100,100\n",
    "    pos_offsets = [(int(-x_dim/4),int(-y_dim/4)),\n",
    "                   (int(+x_dim/4),int(-y_dim/4)),\n",
    "                   (int(+x_dim/4),int(+y_dim/4)),\n",
    "                   (int(-x_dim/4),int(+y_dim/4))]\n",
    "    \n",
    "    for i,pos in enumerate([si for sj in shape_pattern for si in sj]):\n",
    "        if pos:\n",
    "            _pos_x = pos_x + pos_offsets[i][0]\n",
    "            _pos_y = pos_y + pos_offsets[i][1]\n",
    "\n",
    "            pts_t = numpy.array([[[_pos_x-radius,_pos_y+radius],[_pos_x+radius,_pos_y+radius],\n",
    "                                  [_pos_x,_pos_y-radius],[_pos_x-radius,_pos_y+radius]]], dtype=numpy.int32)\n",
    "\n",
    "            pts_c = numpy.array([[[_pos_x-thickness/2,_pos_y-radius],[_pos_x+thickness/2,_pos_y-radius],\n",
    "                                  [_pos_x+thickness/2,_pos_y-thickness/2],[_pos_x+radius,_pos_y-thickness/2],\n",
    "                                  [_pos_x+radius,_pos_y+thickness/2],[_pos_x+thickness/2,_pos_y+thickness/2],\n",
    "                                  [_pos_x+thickness/2,_pos_y+radius],[_pos_x-thickness/2,_pos_y+radius],\n",
    "                                  [_pos_x-thickness/2,_pos_y+thickness/2],[_pos_x-radius,_pos_y+thickness/2],\n",
    "                                  [_pos_x-radius,_pos_y-thickness/2],[_pos_x-thickness/2,_pos_y-thickness/2]\n",
    "                                 ]], dtype=numpy.int32)\n",
    "\n",
    "            shape_args = [((_pos_x,_pos_y), radius, color, -1),\n",
    "                          ((_pos_x-radius,_pos_y-radius),(_pos_x+radius,_pos_y+radius),color,-1),\n",
    "                          (pts_t, color),\n",
    "                          (pts_c, color)]\n",
    "\n",
    "            shape_methods = [cv2.circle,cv2.rectangle,cv2.fillPoly,cv2.fillPoly]\n",
    "\n",
    "            shape_methods[shape_num](shape,*shape_args[shape_num])\n",
    "    \n",
    "    return shape"
   ]
  },
  {
   "cell_type": "code",
   "execution_count": 112,
   "metadata": {
    "collapsed": false
   },
   "outputs": [],
   "source": [
    "while True:\n",
    "    \n",
    "    cv2.imshow(\"Image window\", generate_cards(3, shape_pattern = [[1,0],[1,1]], shape_scale = 2))\n",
    "    key = cv2.waitKey(1) & 0xFF\n",
    "    \n",
    "    # if the 'q' key is pressed, stop the loop\n",
    "    if key == ord(\"q\"):\n",
    "        break"
   ]
  },
  {
   "cell_type": "code",
   "execution_count": null,
   "metadata": {
    "collapsed": true
   },
   "outputs": [],
   "source": []
  }
 ],
 "metadata": {
  "kernelspec": {
   "display_name": "Python 2",
   "language": "python",
   "name": "python2"
  },
  "language_info": {
   "codemirror_mode": {
    "name": "ipython",
    "version": 2
   },
   "file_extension": ".py",
   "mimetype": "text/x-python",
   "name": "python",
   "nbconvert_exporter": "python",
   "pygments_lexer": "ipython2",
   "version": "2.7.12"
  }
 },
 "nbformat": 4,
 "nbformat_minor": 0
}
