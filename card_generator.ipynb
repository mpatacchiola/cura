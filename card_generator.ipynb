{
 "cells": [
  {
   "cell_type": "code",
   "execution_count": 1,
   "metadata": {
    "collapsed": false
   },
   "outputs": [
    {
     "name": "stderr",
     "output_type": "stream",
     "text": [
      "/usr/local/lib/python2.7/site-packages/matplotlib/font_manager.py:273: UserWarning: Matplotlib is building the font cache using fc-list. This may take a moment.\n",
      "  warnings.warn('Matplotlib is building the font cache using fc-list. This may take a moment.')\n"
     ]
    }
   ],
   "source": [
    "import cv2\n",
    "import numpy\n",
    "import matplotlib.pyplot as plt"
   ]
  },
  {
   "cell_type": "code",
   "execution_count": 2,
   "metadata": {
    "collapsed": false
   },
   "outputs": [],
   "source": [
    "cv2.startWindowThread()\n",
    "cv2.namedWindow(\"Image window\",cv2.WINDOW_NORMAL) # cv2.WINDOW_NORMAL lets us resize the window"
   ]
  },
  {
   "cell_type": "code",
   "execution_count": 73,
   "metadata": {
    "collapsed": true
   },
   "outputs": [],
   "source": [
    "def generate_card(shape_num, shape_color = (0,0,255), \n",
    "                   shape_pattern = [[0,0],[0,1]], shape_scale = 1):\n",
    "    '''\n",
    "    shape_num: 0 (circle), 1 (rectangle), 2 (triangle) and 3 (cross).\n",
    "    shape_color: (B,G,R)\n",
    "    shape_pattern: [[0/1,0/1],[0/1,0/1]]\n",
    "    '''\n",
    "    x_dim,y_dim = 200,200\n",
    "    shape = numpy.ones((x_dim,y_dim,3))\n",
    "    cv2.rectangle(shape,(x_dim-2,y_dim-2),(1,1),(0,0,0),2)\n",
    "\n",
    "    radius = int(10*shape_scale)\n",
    "    thickness = int(2*shape_scale) # must be even\n",
    "\n",
    "\n",
    "    color = shape_color\n",
    "    pos_x,pos_y = 100,100\n",
    "    pos_offsets = [(int(-x_dim/4),int(-y_dim/4)),\n",
    "                   (int(+x_dim/4),int(-y_dim/4)),\n",
    "                   (int(+x_dim/4),int(+y_dim/4)),\n",
    "                   (int(-x_dim/4),int(+y_dim/4))]\n",
    "    \n",
    "    for i,pos in enumerate([si for sj in shape_pattern for si in sj]):\n",
    "        if pos:\n",
    "            _pos_x = pos_x + pos_offsets[i][0]\n",
    "            _pos_y = pos_y + pos_offsets[i][1]\n",
    "\n",
    "            pts_t = numpy.array([[[_pos_x-radius,_pos_y+radius],\n",
    "                                  [_pos_x+radius,_pos_y+radius],\n",
    "                                  [_pos_x,_pos_y-radius],\n",
    "                                  [_pos_x-radius,_pos_y+radius]]], dtype=numpy.int32)\n",
    "\n",
    "            pts_c = numpy.array([[[_pos_x-thickness/2,_pos_y-radius],\n",
    "                                  [_pos_x+thickness/2,_pos_y-radius],\n",
    "                                  [_pos_x+thickness/2,_pos_y-thickness/2],\n",
    "                                  [_pos_x+radius,_pos_y-thickness/2],\n",
    "                                  [_pos_x+radius,_pos_y+thickness/2],\n",
    "                                  [_pos_x+thickness/2,_pos_y+thickness/2],\n",
    "                                  [_pos_x+thickness/2,_pos_y+radius],\n",
    "                                  [_pos_x-thickness/2,_pos_y+radius],\n",
    "                                  [_pos_x-thickness/2,_pos_y+thickness/2],\n",
    "                                  [_pos_x-radius,_pos_y+thickness/2],\n",
    "                                  [_pos_x-radius,_pos_y-thickness/2],\n",
    "                                  [_pos_x-thickness/2,_pos_y-thickness/2]\n",
    "                                 ]], dtype=numpy.int32)\n",
    "\n",
    "            shape_args = [((_pos_x,_pos_y), radius, color, -1),\n",
    "                          ((_pos_x-radius,_pos_y-radius),(_pos_x+radius,_pos_y+radius),color,-1),\n",
    "                          (pts_t, color),\n",
    "                          (pts_c, color)]\n",
    "\n",
    "            shape_methods = [cv2.circle,cv2.rectangle,cv2.fillPoly,cv2.fillPoly]\n",
    "\n",
    "            shape_methods[shape_num](shape,*shape_args[shape_num])\n",
    "    \n",
    "    return shape"
   ]
  },
  {
   "cell_type": "code",
   "execution_count": 79,
   "metadata": {
    "collapsed": false
   },
   "outputs": [],
   "source": [
    "while True:\n",
    "    \n",
    "    cv2.imshow(\"Image window\", generate_card(3,shape_color = (0,255,255), shape_pattern = [[1,0],[1,1]], shape_scale = 2))\n",
    "    key = cv2.waitKey(1) & 0xFF\n",
    "    \n",
    "    # if the 'q' key is pressed, stop the loop\n",
    "    if key == ord(\"q\"):\n",
    "        break"
   ]
  },
  {
   "cell_type": "code",
   "execution_count": 75,
   "metadata": {
    "collapsed": false
   },
   "outputs": [
    {
     "data": {
      "image/png": "[encoded data removed]",
      "text/plain": [
       "<matplotlib.figure.Figure at 0x10765ef50>"
      ]
     },
     "metadata": {},
     "output_type": "display_data"
    }
   ],
   "source": [
    "%matplotlib inline\n",
    "\n",
    "plt.imshow(generate_card(3, shape_pattern = [[0,1],[1,1]], shape_scale = 2))\n",
    "plt.show()"
   ]
  },
  {
   "cell_type": "code",
   "execution_count": 76,
   "metadata": {
    "collapsed": false
   },
   "outputs": [],
   "source": [
    "shape_patterns = []\n",
    "for i in range(1,5):\n",
    "    z = numpy.zeros(4,int)\n",
    "    z[0:i]=1\n",
    "    shape_patterns.append(z.reshape((2,2)).tolist())"
   ]
  },
  {
   "cell_type": "code",
   "execution_count": 77,
   "metadata": {
    "collapsed": false
   },
   "outputs": [
    {
     "data": {
      "text/plain": [
       "[[[1, 0], [0, 0]], [[1, 1], [0, 0]], [[1, 1], [1, 0]], [[1, 1], [1, 1]]]"
      ]
     },
     "execution_count": 77,
     "metadata": {},
     "output_type": "execute_result"
    }
   ],
   "source": [
    "shape_patterns"
   ]
  },
  {
   "cell_type": "code",
   "execution_count": null,
   "metadata": {
    "collapsed": true
   },
   "outputs": [],
   "source": [
    "color0 = (0,0,255)\n",
    "color1 = (0,255,0)\n",
    "color2 = (255,0,0)\n",
    "color3 = (0,0,0)\n",
    "shape_colors = [color0, color1, color2, color3]"
   ]
  },
  {
   "cell_type": "code",
   "execution_count": 41,
   "metadata": {
    "collapsed": true
   },
   "outputs": [],
   "source": [
    "l = [0,1,2,3]\n",
    "deck = []\n",
    "for i in l:\n",
    "    for j in l:\n",
    "        for k in l:\n",
    "                deck.append([i,j,k])"
   ]
  },
  {
   "cell_type": "code",
   "execution_count": 42,
   "metadata": {
    "collapsed": false
   },
   "outputs": [],
   "source": [
    "new_deck = numpy.copy(deck)\n",
    "numpy.random.shuffle(new_deck)\n",
    "cards = new_deck[:4]"
   ]
  },
  {
   "cell_type": "code",
   "execution_count": 43,
   "metadata": {
    "collapsed": false
   },
   "outputs": [
    {
     "data": {
      "text/plain": [
       "array([[2, 3, 2],\n",
       "       [0, 1, 0],\n",
       "       [0, 1, 3],\n",
       "       [3, 1, 1]])"
      ]
     },
     "execution_count": 43,
     "metadata": {},
     "output_type": "execute_result"
    }
   ],
   "source": [
    "cards"
   ]
  },
  {
   "cell_type": "code",
   "execution_count": 100,
   "metadata": {
    "collapsed": false
   },
   "outputs": [],
   "source": [
    "def generate_hand():\n",
    "    c = [0,1,2,3]\n",
    "    s = [0,1,2,3]\n",
    "    n = [0,1,2,3]\n",
    "\n",
    "    numpy.random.shuffle(c)\n",
    "    numpy.random.shuffle(s)\n",
    "    numpy.random.shuffle(n)\n",
    "    cards = []\n",
    "    for i in range(4):\n",
    "        cards.append([c[i],s[i],n[i]])\n",
    "\n",
    "    return numpy.array(cards)"
   ]
  },
  {
   "cell_type": "code",
   "execution_count": 101,
   "metadata": {
    "collapsed": false
   },
   "outputs": [],
   "source": [
    "def unique_card(hand):\n",
    "    unique = False\n",
    "    while not unique:\n",
    "        rnd_card = numpy.random.randint(0, high=4, size=3, dtype='i')\n",
    "        if (hand-rnd_card).sum(axis=1).prod():\n",
    "            unique = True\n",
    "    return rnd_card"
   ]
  },
  {
   "cell_type": "code",
   "execution_count": 102,
   "metadata": {
    "collapsed": true
   },
   "outputs": [],
   "source": [
    "hand = generate_hand()"
   ]
  },
  {
   "cell_type": "code",
   "execution_count": 103,
   "metadata": {
    "collapsed": false
   },
   "outputs": [
    {
     "data": {
      "text/plain": [
       "array([3, 1, 2], dtype=int32)"
      ]
     },
     "execution_count": 103,
     "metadata": {},
     "output_type": "execute_result"
    }
   ],
   "source": [
    "unique_card(hand)"
   ]
  },
  {
   "cell_type": "code",
   "execution_count": null,
   "metadata": {
    "collapsed": true
   },
   "outputs": [],
   "source": []
  }
 ],
 "metadata": {
  "kernelspec": {
   "display_name": "Python 2",
   "language": "python",
   "name": "python2"
  },
  "language_info": {
   "codemirror_mode": {
    "name": "ipython",
    "version": 2
   },
   "file_extension": ".py",
   "mimetype": "text/x-python",
   "name": "python",
   "nbconvert_exporter": "python",
   "pygments_lexer": "ipython2",
   "version": "2.7.12"
  }
 },
 "nbformat": 4,
 "nbformat_minor": 0
}
